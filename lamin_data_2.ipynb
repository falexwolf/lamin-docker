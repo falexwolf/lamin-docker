{
 "cells": [
  {
   "cell_type": "markdown",
   "id": "abececa3",
   "metadata": {},
   "source": [
    "# Track data lineage"
   ]
  },
  {
   "cell_type": "code",
   "execution_count": 1,
   "id": "d24726db",
   "metadata": {},
   "outputs": [
    {
     "name": "stderr",
     "output_type": "stream",
     "text": [
      "🔶 You are running 3.11.4\n",
      "Only python versions 3.8~3.10 are currently tested, use at your own risk.\n",
      "🔶 You are running 3.11.4\n",
      "Only python versions 3.8~3.10 are currently tested, use at your own risk.\n",
      "✅ Loaded instance: lawrence-lamin/lamindb\n",
      "🔶 You are running 3.11.4\n",
      "Only python versions 3.7~3.10 are currently tested, use at your own risk.\n"
     ]
    }
   ],
   "source": [
    "import lamindb as ln"
   ]
  },
  {
   "cell_type": "markdown",
   "id": "9db0f306",
   "metadata": {},
   "source": [
    "^ I'm getting 3 warnings that are very similar and probably coming from 3 different libraries"
   ]
  },
  {
   "cell_type": "code",
   "execution_count": 2,
   "id": "08383c6c",
   "metadata": {},
   "outputs": [
    {
     "name": "stderr",
     "output_type": "stream",
     "text": [
      "💬 Initializing.\n"
     ]
    },
    {
     "data": {
      "application/javascript": [
       "IPython.notebook.save_notebook()"
      ]
     },
     "metadata": {},
     "output_type": "display_data"
    },
    {
     "name": "stderr",
     "output_type": "stream",
     "text": [
      "🔶 Automatic tracking of notebook failed: Auto-retrieval of notebook name & title failed.\n",
      "Please paste error at: https://github.com/laminlabs/nbproject/issues/new \n",
      "\n",
      "Fix: Run `ln.track(ln.Transform(name='My notebook'))`\n",
      "🔶 No automatic metadata detection, consider passing transform\n"
     ]
    }
   ],
   "source": [
    "ln.track()"
   ]
  }
 ],
 "metadata": {
  "kernelspec": {
   "display_name": "Python 3 (ipykernel)",
   "language": "python",
   "name": "python3"
  },
  "language_info": {
   "codemirror_mode": {
    "name": "ipython",
    "version": 3
   },
   "file_extension": ".py",
   "mimetype": "text/x-python",
   "name": "python",
   "nbconvert_exporter": "python",
   "pygments_lexer": "ipython3",
   "version": "3.11.4"
  }
 },
 "nbformat": 4,
 "nbformat_minor": 5
}
