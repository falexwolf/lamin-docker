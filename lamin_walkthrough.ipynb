{
 "cells": [
  {
   "cell_type": "code",
   "execution_count": 4,
   "id": "a9859c5b-0b50-4b2a-b572-03f7c3b5dfa0",
   "metadata": {
    "tags": []
   },
   "outputs": [],
   "source": [
    "import lamindb as ln"
   ]
  },
  {
   "cell_type": "code",
   "execution_count": 5,
   "id": "48c6509e-2905-413c-83c6-ae870d515a48",
   "metadata": {
    "tags": []
   },
   "outputs": [
    {
     "name": "stdout",
     "output_type": "stream",
     "text": [
      "✅ Logged in with handle lawrence-lamin and id 325XQ1LU\n"
     ]
    }
   ],
   "source": [
    "ln.setup.login(\"lawrlee+lamin@gmail.com\")"
   ]
  },
  {
   "cell_type": "code",
   "execution_count": 10,
   "id": "1707c82d-114a-4096-962b-fde075a73f55",
   "metadata": {
    "tags": []
   },
   "outputs": [
    {
     "name": "stdout",
     "output_type": "stream",
     "text": [
      "🔶 Instance metadata exists, but DB might have been corrupted or deleted. Re-initializing the DB.\n",
      "ℹ️ Loading schema modules: core==0.29.7 wetlab==0.13.4 bionty==0.10.0 \n",
      "✅ Created & loaded instance: lawrence-lamin/lamin_storage\n"
     ]
    }
   ],
   "source": [
    "ln.setup.init(storage=\"lamin_storage\", schema=\"bionty,wetlab\")"
   ]
  },
  {
   "cell_type": "code",
   "execution_count": null,
   "id": "e46ab69b-a0e0-471b-ae72-18147f459169",
   "metadata": {},
   "outputs": [],
   "source": []
  }
 ],
 "metadata": {
  "kernelspec": {
   "display_name": "Python 3 (ipykernel)",
   "language": "python",
   "name": "python3"
  },
  "language_info": {
   "codemirror_mode": {
    "name": "ipython",
    "version": 3
   },
   "file_extension": ".py",
   "mimetype": "text/x-python",
   "name": "python",
   "nbconvert_exporter": "python",
   "pygments_lexer": "ipython3",
   "version": "3.10.10"
  }
 },
 "nbformat": 4,
 "nbformat_minor": 5
}
